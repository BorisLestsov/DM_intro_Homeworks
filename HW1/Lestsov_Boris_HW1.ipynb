{
 "cells": [
  {
   "cell_type": "markdown",
   "metadata": {},
   "source": [
    "**Найти сумму всех четных чисел в последовательности Фиббоначи, которые меньше миллиона:**"
   ]
  },
  {
   "cell_type": "code",
   "execution_count": 1,
   "metadata": {
    "collapsed": false
   },
   "outputs": [],
   "source": [
    "def fib_gen(bound = 10**6):\n",
    "    a = b = 1\n",
    "    while a < bound:\n",
    "        if a % 2 == 0:\n",
    "            yield a\n",
    "        b, a = a, a + b"
   ]
  },
  {
   "cell_type": "code",
   "execution_count": 2,
   "metadata": {
    "collapsed": false
   },
   "outputs": [
    {
     "data": {
      "text/plain": [
       "1089154"
      ]
     },
     "execution_count": 2,
     "metadata": {},
     "output_type": "execute_result"
    }
   ],
   "source": [
    "sum(fib_gen())"
   ]
  },
  {
   "cell_type": "markdown",
   "metadata": {},
   "source": [
    "**В директории находится текстовый файл с киррилицей. Необходимо прочитать его и построить частоту, с которой встречается каждая из гласных:**"
   ]
  },
  {
   "cell_type": "code",
   "execution_count": 3,
   "metadata": {
    "collapsed": false
   },
   "outputs": [
    {
     "name": "stdout",
     "output_type": "stream",
     "text": [
      "а  :  42\n",
      "е  :  64\n",
      "и  :  41\n",
      "о  :  63\n",
      "у  :  9\n",
      "э  :  1\n",
      "ю  :  6\n",
      "я  :  7\n",
      "ё  :  3\n"
     ]
    }
   ],
   "source": [
    "vowels = list(u\"аеёиоуэюя\")\n",
    "dict = {char:0 for char in vowels}\n",
    "\n",
    "f = open(\"text.txt\", \"r\")\n",
    "\n",
    "for line in f:\n",
    "    for char in line.decode('utf8'):\n",
    "        if char in vowels:\n",
    "            if char in dict:\n",
    "                dict[char] += 1\n",
    "for key, val in sorted(dict.items()):\n",
    "    print key.encode('utf8'), \" : \", val"
   ]
  },
  {
   "cell_type": "markdown",
   "metadata": {},
   "source": [
    "** Написать код, который инвертирует значения в словаре: **"
   ]
  },
  {
   "cell_type": "code",
   "execution_count": 4,
   "metadata": {
    "collapsed": false
   },
   "outputs": [
    {
     "name": "stdout",
     "output_type": "stream",
     "text": [
      "{'foo': 1, 'bar': 3}\n",
      "{1: 'foo', 3: 'bar'}\n"
     ]
    }
   ],
   "source": [
    "d = {\"foo\": 1, \"bar\": 3}\n",
    "inv_d = {v: k for k, v in d.items()}\n",
    "print d\n",
    "print inv_d"
   ]
  }
 ],
 "metadata": {
  "kernelspec": {
   "display_name": "Python 2",
   "language": "python",
   "name": "python2"
  },
  "language_info": {
   "codemirror_mode": {
    "name": "ipython",
    "version": 2.0
   },
   "file_extension": ".py",
   "mimetype": "text/x-python",
   "name": "python",
   "nbconvert_exporter": "python",
   "pygments_lexer": "ipython2",
   "version": "2.7.6"
  }
 },
 "nbformat": 4,
 "nbformat_minor": 0
}