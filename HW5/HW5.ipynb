{
 "cells": [
  {
   "cell_type": "code",
   "execution_count": 1,
   "metadata": {
    "collapsed": false
   },
   "outputs": [],
   "source": [
    "import pandas as pd\n",
    "import numpy as np\n",
    "import scipy.stats as stats\n",
    "import statsmodels.stats.power as smp\n",
    "from statsmodels.sandbox.stats.multicomp import multipletests"
   ]
  },
  {
   "cell_type": "code",
   "execution_count": 2,
   "metadata": {
    "collapsed": false
   },
   "outputs": [
    {
     "data": {
      "text/html": [
       "<div>\n",
       "<table border=\"1\" class=\"dataframe\">\n",
       "  <thead>\n",
       "    <tr style=\"text-align: right;\">\n",
       "      <th></th>\n",
       "      <th>Unnamed: 0.1</th>\n",
       "      <th>Agency</th>\n",
       "      <th>Salary2010</th>\n",
       "      <th>Salary2011</th>\n",
       "      <th>Salary2012</th>\n",
       "      <th>Salary2013</th>\n",
       "    </tr>\n",
       "  </thead>\n",
       "  <tbody>\n",
       "    <tr>\n",
       "      <th>count</th>\n",
       "      <td>52256.000000</td>\n",
       "      <td>52256.000000</td>\n",
       "      <td>5.225600e+04</td>\n",
       "      <td>5.225600e+04</td>\n",
       "      <td>5.225600e+04</td>\n",
       "      <td>5.225600e+04</td>\n",
       "    </tr>\n",
       "    <tr>\n",
       "      <th>mean</th>\n",
       "      <td>156430.169205</td>\n",
       "      <td>409.339655</td>\n",
       "      <td>4.938067e+04</td>\n",
       "      <td>5.212639e+04</td>\n",
       "      <td>5.251105e+04</td>\n",
       "      <td>5.030586e+04</td>\n",
       "    </tr>\n",
       "    <tr>\n",
       "      <th>std</th>\n",
       "      <td>89673.627737</td>\n",
       "      <td>155.483410</td>\n",
       "      <td>3.391431e+04</td>\n",
       "      <td>3.443960e+04</td>\n",
       "      <td>3.523870e+04</td>\n",
       "      <td>3.672471e+04</td>\n",
       "    </tr>\n",
       "    <tr>\n",
       "      <th>min</th>\n",
       "      <td>10.000000</td>\n",
       "      <td>11.000000</td>\n",
       "      <td>1.000000e+02</td>\n",
       "      <td>1.000000e+02</td>\n",
       "      <td>1.020000e+02</td>\n",
       "      <td>1.010000e+02</td>\n",
       "    </tr>\n",
       "    <tr>\n",
       "      <th>25%</th>\n",
       "      <td>83462.750000</td>\n",
       "      <td>305.000000</td>\n",
       "      <td>3.043250e+04</td>\n",
       "      <td>3.379500e+04</td>\n",
       "      <td>3.392975e+04</td>\n",
       "      <td>3.065450e+04</td>\n",
       "    </tr>\n",
       "    <tr>\n",
       "      <th>50%</th>\n",
       "      <td>155251.000000</td>\n",
       "      <td>360.000000</td>\n",
       "      <td>4.632200e+04</td>\n",
       "      <td>4.818700e+04</td>\n",
       "      <td>4.888950e+04</td>\n",
       "      <td>4.709300e+04</td>\n",
       "    </tr>\n",
       "    <tr>\n",
       "      <th>75%</th>\n",
       "      <td>225747.500000</td>\n",
       "      <td>490.000000</td>\n",
       "      <td>6.422325e+04</td>\n",
       "      <td>6.604500e+04</td>\n",
       "      <td>6.633725e+04</td>\n",
       "      <td>6.564025e+04</td>\n",
       "    </tr>\n",
       "    <tr>\n",
       "      <th>max</th>\n",
       "      <td>339762.000000</td>\n",
       "      <td>696.000000</td>\n",
       "      <td>1.982918e+06</td>\n",
       "      <td>2.529168e+06</td>\n",
       "      <td>2.736431e+06</td>\n",
       "      <td>2.633642e+06</td>\n",
       "    </tr>\n",
       "  </tbody>\n",
       "</table>\n",
       "</div>"
      ],
      "text/plain": [
       "        Unnamed: 0.1        Agency    Salary2010    Salary2011    Salary2012  \\\n",
       "count   52256.000000  52256.000000  5.225600e+04  5.225600e+04  5.225600e+04   \n",
       "mean   156430.169205    409.339655  4.938067e+04  5.212639e+04  5.251105e+04   \n",
       "std     89673.627737    155.483410  3.391431e+04  3.443960e+04  3.523870e+04   \n",
       "min        10.000000     11.000000  1.000000e+02  1.000000e+02  1.020000e+02   \n",
       "25%     83462.750000    305.000000  3.043250e+04  3.379500e+04  3.392975e+04   \n",
       "50%    155251.000000    360.000000  4.632200e+04  4.818700e+04  4.888950e+04   \n",
       "75%    225747.500000    490.000000  6.422325e+04  6.604500e+04  6.633725e+04   \n",
       "max    339762.000000    696.000000  1.982918e+06  2.529168e+06  2.736431e+06   \n",
       "\n",
       "         Salary2013  \n",
       "count  5.225600e+04  \n",
       "mean   5.030586e+04  \n",
       "std    3.672471e+04  \n",
       "min    1.010000e+02  \n",
       "25%    3.065450e+04  \n",
       "50%    4.709300e+04  \n",
       "75%    6.564025e+04  \n",
       "max    2.633642e+06  "
      ]
     },
     "execution_count": 2,
     "metadata": {},
     "output_type": "execute_result"
    }
   ],
   "source": [
    "df = pd.DataFrame.from_csv(\"salaries.csv\")\n",
    "df.describe()"
   ]
  },
  {
   "cell_type": "markdown",
   "metadata": {},
   "source": [
    "# Задание 1"
   ]
  },
  {
   "cell_type": "markdown",
   "metadata": {},
   "source": [
    "#### Одновыборочный параметрический тест для Salary2010"
   ]
  },
  {
   "cell_type": "markdown",
   "metadata": {},
   "source": [
    "Рассмотрим правостороннюю гипотезу для поля Salary2010:"
   ]
  },
  {
   "cell_type": "markdown",
   "metadata": {
    "collapsed": true
   },
   "source": [
    "$$H_0: \\mu = \\mu_0,$$\n",
    "$$H_1: \\mu > \\mu_0.$$\n",
    "$$\\alpha = 0.05 $$"
   ]
  },
  {
   "cell_type": "code",
   "execution_count": 3,
   "metadata": {
    "collapsed": true
   },
   "outputs": [],
   "source": [
    "mu0 = 49300"
   ]
  },
  {
   "cell_type": "code",
   "execution_count": 4,
   "metadata": {
    "collapsed": false
   },
   "outputs": [],
   "source": [
    "ppf = stats.t.ppf(0.95, df['Salary2010'].count()-1)"
   ]
  },
  {
   "cell_type": "code",
   "execution_count": 5,
   "metadata": {
    "collapsed": false
   },
   "outputs": [
    {
     "name": "stdout",
     "output_type": "stream",
     "text": [
      "ppf = 1.64488278773\n",
      "t_obs = 0.54372873691\n",
      "Принимаем нулевую гипотезу\n"
     ]
    }
   ],
   "source": [
    "t_obs = (df['Salary2010'].mean() - mu0)/(df['Salary2010'].std()/np.sqrt(df['Salary2010'].count()))\n",
    "print \"ppf =\", ppf\n",
    "print \"t_obs =\", t_obs\n",
    "if abs(t_obs) < ppf:\n",
    "    print \"Принимаем нулевую гипотезу\"\n",
    "else:\n",
    "    print \"Принимаем альтернативную гипотезу\""
   ]
  },
  {
   "cell_type": "markdown",
   "metadata": {},
   "source": [
    "#### Двухвыборочный параметрический тест для Salary2010 и Salary 2011"
   ]
  },
  {
   "cell_type": "markdown",
   "metadata": {},
   "source": [
    "Нулевая гипотеза и t-статистика:\n",
    "$$ H_0: \\mu_1 = \\mu_2.$$\n",
    "$$ H_1: \\mu_1 \\neq \\mu_2.$$\n",
    "$$ \\alpha = 0.05 $$\n",
    "$$ t_{obs} = \\frac{\\bar{X}_1 - \\bar{X}_2}{\\sqrt{s^2_{X_1}+s^2_{X_2}}\\sqrt{\\frac{1}{n}}}. $$"
   ]
  },
  {
   "cell_type": "code",
   "execution_count": 6,
   "metadata": {
    "collapsed": true
   },
   "outputs": [],
   "source": [
    "ppf = stats.t.ppf(0.95, df['Salary2010'].count()+df['Salary2011'].count()-1)"
   ]
  },
  {
   "cell_type": "code",
   "execution_count": 7,
   "metadata": {
    "collapsed": false
   },
   "outputs": [
    {
     "name": "stdout",
     "output_type": "stream",
     "text": [
      "ppf = 1.64486820707\n",
      "t_obs = -12.9856341717\n",
      "Принимаем альтернативную гипотезу\n"
     ]
    }
   ],
   "source": [
    "t_obs = (df['Salary2010'].mean() - df['Salary2011'].mean()) / \\\n",
    "                (np.sqrt(stats.tvar(df['Salary2010'].values) + stats.tvar(df['Salary2011'].values)) * \\\n",
    "                np.sqrt(1.0/len(df)))\n",
    "print \"ppf =\", ppf\n",
    "print \"t_obs =\", t_obs\n",
    "if abs(t_obs) < ppf:\n",
    "    print \"Принимаем нулевую гипотезу\"\n",
    "else:\n",
    "    print \"Принимаем альтернативную гипотезу\""
   ]
  },
  {
   "cell_type": "code",
   "execution_count": 8,
   "metadata": {
    "collapsed": true
   },
   "outputs": [],
   "source": [
    "pvalues = []"
   ]
  },
  {
   "cell_type": "code",
   "execution_count": 9,
   "metadata": {
    "collapsed": true
   },
   "outputs": [],
   "source": [
    "t, p = stats.ttest_ind(df['Salary2010'],df['Salary2011'], equal_var=True)\n",
    "pvalues.append(p)"
   ]
  },
  {
   "cell_type": "markdown",
   "metadata": {},
   "source": [
    "__В следующих тестах гипотезы можно считать аналогичными__"
   ]
  },
  {
   "cell_type": "markdown",
   "metadata": {},
   "source": [
    "#### Двухвыборочный непараметрический тест для Salary2010 и Salary 2011 (Wilcoxon rank-sum statistic)"
   ]
  },
  {
   "cell_type": "code",
   "execution_count": 10,
   "metadata": {
    "collapsed": false
   },
   "outputs": [
    {
     "name": "stdout",
     "output_type": "stream",
     "text": [
      "t = -15.3047883038\n",
      "p value = 7.1032737434e-53\n",
      "Принимаем альтернативную гипотезу\n"
     ]
    }
   ],
   "source": [
    "t, p = stats.ranksums(df['Salary2010'], df['Salary2011'])\n",
    "print \"t =\", t\n",
    "print \"p value =\", p\n",
    "if abs(t) < ppf:\n",
    "    print \"Принимаем нулевую гипотезу\"\n",
    "else:\n",
    "    print \"Принимаем альтернативную гипотезу\"\n",
    "pvalues.append(p)"
   ]
  },
  {
   "cell_type": "markdown",
   "metadata": {},
   "source": [
    "#### Параметрический тест для парных наблюдений\n"
   ]
  },
  {
   "cell_type": "code",
   "execution_count": 11,
   "metadata": {
    "collapsed": true
   },
   "outputs": [],
   "source": [
    "sample1 = np.random.choice(df['Salary2010'],5000)\n",
    "sample2 = np.random.choice(df['Salary2010'],5000)"
   ]
  },
  {
   "cell_type": "code",
   "execution_count": 12,
   "metadata": {
    "collapsed": false
   },
   "outputs": [
    {
     "data": {
      "text/plain": [
       "Ttest_relResult(statistic=0.66734122361484138, pvalue=0.50458500341499934)"
      ]
     },
     "execution_count": 12,
     "metadata": {},
     "output_type": "execute_result"
    }
   ],
   "source": [
    "stats.ttest_rel(sample1, sample2)"
   ]
  },
  {
   "cell_type": "markdown",
   "metadata": {},
   "source": [
    "#### Непараметрический тест для парных наблюдений (Flinger test)"
   ]
  },
  {
   "cell_type": "code",
   "execution_count": 13,
   "metadata": {
    "collapsed": false
   },
   "outputs": [
    {
     "data": {
      "text/plain": [
       "FlignerResult(statistic=1.1848774181017394, pvalue=0.27636528235493985)"
      ]
     },
     "execution_count": 13,
     "metadata": {},
     "output_type": "execute_result"
    }
   ],
   "source": [
    "stats.fligner(sample1, sample2)"
   ]
  },
  {
   "cell_type": "markdown",
   "metadata": {},
   "source": [
    "# Задание 2"
   ]
  },
  {
   "cell_type": "markdown",
   "metadata": {},
   "source": [
    "Параметрический тест с точной альтернативной гипотезой для Salary2010:"
   ]
  },
  {
   "cell_type": "markdown",
   "metadata": {},
   "source": [
    "$$H_0: \\mu = \\mu_0,$$\n",
    "$$H_1: \\mu \\neq \\mu_0.$$\n",
    "$$\\alpha = 0.05 $$"
   ]
  },
  {
   "cell_type": "markdown",
   "metadata": {},
   "source": [
    "Мощность теста:"
   ]
  },
  {
   "cell_type": "code",
   "execution_count": 14,
   "metadata": {
    "collapsed": false
   },
   "outputs": [
    {
     "data": {
      "text/plain": [
       "1.0"
      ]
     },
     "execution_count": 14,
     "metadata": {},
     "output_type": "execute_result"
    }
   ],
   "source": [
    "smp.ttest_power(df['Salary2010'].mean()/df['Salary2010'].std(), nobs= df['Salary2010'].count(), alpha=0.05, alternative='two-sided')"
   ]
  },
  {
   "cell_type": "markdown",
   "metadata": {},
   "source": [
    "# Задание 3"
   ]
  },
  {
   "cell_type": "code",
   "execution_count": 15,
   "metadata": {
    "collapsed": false
   },
   "outputs": [
    {
     "name": "stdout",
     "output_type": "stream",
     "text": [
      "Hypothisis rejected:  [ True  True]\n",
      "corrected p_values: [  3.16231358e-38   1.42065475e-52]\n"
     ]
    }
   ],
   "source": [
    "hyp, new_p, sid, bonf = multipletests(pvalues, alpha=0.05, method='bonferroni')\n",
    "print \"Hypothisis rejected: \", hyp\n",
    "print \"corrected p_values:\", new_p"
   ]
  },
  {
   "cell_type": "markdown",
   "metadata": {},
   "source": [
    "#### Видно, что результаты не изменились, нулевая гипотеза отвергается в обоих случаях"
   ]
  },
  {
   "cell_type": "markdown",
   "metadata": {},
   "source": [
    "# Задание 4"
   ]
  },
  {
   "cell_type": "markdown",
   "metadata": {},
   "source": [
    "#### Доверительный интервал для среднего"
   ]
  },
  {
   "cell_type": "code",
   "execution_count": 16,
   "metadata": {
    "collapsed": false
   },
   "outputs": [
    {
     "name": "stdout",
     "output_type": "stream",
     "text": [
      "Mean: 49380.6672344\n",
      "Confidence interval for mean: [49089.88154364247, 49671.452925126672]\n"
     ]
    }
   ],
   "source": [
    "# Confidence\n",
    "conf = 0.95\n",
    "\n",
    "m, se = df['Salary2010'].mean(), df['Salary2010'].sem()\n",
    "h = se * stats.t.ppf((1+conf)/2., len(df)-1)\n",
    "print \"Mean:\", m\n",
    "print \"Confidence interval for mean:\", [m-h, m+h]"
   ]
  },
  {
   "cell_type": "markdown",
   "metadata": {},
   "source": [
    "#### Доверительный интервал для медианы:"
   ]
  },
  {
   "cell_type": "code",
   "execution_count": 17,
   "metadata": {
    "collapsed": true
   },
   "outputs": [],
   "source": [
    "def bootstrap(arr, n):\n",
    "    indexes = np.floor(np.random.rand(n)*len(arr)).astype(int)\n",
    "    sample = arr[indexes]\n",
    "    return sample"
   ]
  },
  {
   "cell_type": "code",
   "execution_count": 18,
   "metadata": {
    "collapsed": false
   },
   "outputs": [],
   "source": [
    "m = df['Salary2010'].mean()\n",
    "errors = []\n",
    "n=100\n",
    "for i in xrange(n):\n",
    "    errors.append(m - bootstrap(df['Salary2010'], len(df)).median())"
   ]
  },
  {
   "cell_type": "code",
   "execution_count": 19,
   "metadata": {
    "collapsed": false
   },
   "outputs": [
    {
     "name": "stdout",
     "output_type": "stream",
     "text": [
      "Median: 49380.6672344\n",
      "Confidence interval for median: [46509.775000000001, 52251.559468769141]\n"
     ]
    }
   ],
   "source": [
    "# Confidence\n",
    "conf = 0.95\n",
    "\n",
    "h = np.percentile(np.sort(errors), conf*100)\n",
    "df['Salary2010'].median()\n",
    "print \"Median:\", m\n",
    "print \"Confidence interval for median:\", [m-h, m+h]"
   ]
  }
 ],
 "metadata": {
  "anaconda-cloud": {},
  "kernelspec": {
   "display_name": "Python [default]",
   "language": "python",
   "name": "python2"
  },
  "language_info": {
   "codemirror_mode": {
    "name": "ipython",
    "version": 2
   },
   "file_extension": ".py",
   "mimetype": "text/x-python",
   "name": "python",
   "nbconvert_exporter": "python",
   "pygments_lexer": "ipython2",
   "version": "2.7.12"
  }
 },
 "nbformat": 4,
 "nbformat_minor": 1
}
